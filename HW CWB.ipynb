{
 "cells": [
  {
   "cell_type": "code",
   "execution_count": 1,
   "id": "39d922e0",
   "metadata": {
    "scrolled": true
   },
   "outputs": [
    {
     "name": "stdout",
     "output_type": "stream",
     "text": [
      "all\n",
      "Keelung City\n",
      "23~25\n",
      "Taipei City\n",
      "23~27\n",
      "New Taipei City\n",
      "23~27\n",
      "Taoyuan City\n",
      "23~27\n",
      "Hsinchu City\n",
      "23~26\n",
      "Hsinchu County\n",
      "23~26\n",
      "Miaoli County\n",
      "23~27\n",
      "Taichung City\n",
      "25~28\n",
      "Changhua County\n",
      "25~28\n",
      "Nantou County\n",
      "24~28\n",
      "Yunlin County\n",
      "24~27\n",
      "Chiayi City\n",
      "23~28\n",
      "Chiayi County\n",
      "23~27\n",
      "Tainan City\n",
      "25~29\n",
      "Kaohsiung City\n",
      "25~29\n",
      "Pingtung County\n",
      "25~30\n",
      "Yilan County\n",
      "23~27\n",
      "Hualien County\n",
      "24~26\n",
      "Taitung County\n",
      "24~29\n",
      "Penghu County\n",
      "24~26\n",
      "Kinmen County\n",
      "22~24\n",
      "Lienchiang County\n",
      "19~19\n"
     ]
    }
   ],
   "source": [
    "from selenium import webdriver\n",
    "from selenium.webdriver.common.by import By\n",
    "from selenium.webdriver.chrome.service import Service\n",
    "\n",
    "\n",
    "driverPath = \"chromedriver-win64/chromedriver.exe\"\n",
    "s = Service(executable_path=driverPath)\n",
    "\n",
    "browser = webdriver.Chrome(service=s)\n",
    "\n",
    "url = 'https://www.cwa.gov.tw/V8/E/W/County/index.html'\n",
    "browser.get(url)\n",
    "\n",
    "allcity = browser.find_elements(By.CLASS_NAME, 'icon_zone')\n",
    "\n",
    "allnews = {}\n",
    "for i in allcity:\n",
    "    tempc = i.find_element(By.CLASS_NAME, 'tem-C')\n",
    "    tempct = i.find_element(By.CLASS_NAME, 'city')\n",
    "    allnews[tempct.text] = tempc.text\n",
    "    \n",
    "browser.quit()\n",
    "\n",
    "what = input()\n",
    "if what == 'all':\n",
    "    for j in allnews:\n",
    "        print(j)\n",
    "        print(allnews[j])\n",
    "else:\n",
    "    print(allnews[what])"
   ]
  }
 ],
 "metadata": {
  "kernelspec": {
   "display_name": "Python 3",
   "language": "python",
   "name": "python3"
  },
  "language_info": {
   "codemirror_mode": {
    "name": "ipython",
    "version": 3
   },
   "file_extension": ".py",
   "mimetype": "text/x-python",
   "name": "python",
   "nbconvert_exporter": "python",
   "pygments_lexer": "ipython3",
   "version": "3.8.8"
  }
 },
 "nbformat": 4,
 "nbformat_minor": 5
}
